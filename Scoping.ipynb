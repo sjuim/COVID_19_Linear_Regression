{
 "cells": [
  {
   "cell_type": "code",
   "execution_count": 1,
   "metadata": {},
   "outputs": [],
   "source": [
    "import pandas as pd\n",
    "df = pd.read_csv('sampleData.csv', index_col = 'Name')"
   ]
  },
  {
   "cell_type": "code",
   "execution_count": 2,
   "metadata": {},
   "outputs": [
    {
     "name": "stdout",
     "output_type": "stream",
     "text": [
      "         Age Gender\n",
      "Name               \n",
      "Shreya    16      F\n",
      "Raj       10      M\n",
      "Jaideep   48      M\n",
      "Jita      45      F\n"
     ]
    }
   ],
   "source": [
    "print(df)"
   ]
  },
  {
   "cell_type": "markdown",
   "metadata": {},
   "source": [
    "This is what you want"
   ]
  },
  {
   "cell_type": "code",
   "execution_count": 10,
   "metadata": {},
   "outputs": [
    {
     "name": "stdout",
     "output_type": "stream",
     "text": [
      "        Age Gender\n",
      "Name              \n",
      "Shreya   16      F\n",
      "Jita     45      F\n"
     ]
    }
   ],
   "source": [
    "df_F = df[df['Gender'] == 'F']\n",
    "print(df_F)"
   ]
  },
  {
   "cell_type": "markdown",
   "metadata": {},
   "source": [
    "Let's unpack this line of code. We use df['colName'] to spit out just a given column, like so"
   ]
  },
  {
   "cell_type": "code",
   "execution_count": 11,
   "metadata": {},
   "outputs": [
    {
     "name": "stdout",
     "output_type": "stream",
     "text": [
      "Name\n",
      "Shreya     16\n",
      "Raj        10\n",
      "Jaideep    48\n",
      "Jita       45\n",
      "Name: Age, dtype: int64\n"
     ]
    }
   ],
   "source": [
    "print(df['Age'])"
   ]
  },
  {
   "cell_type": "markdown",
   "metadata": {},
   "source": [
    "In general, square brackets are used for indexing, like when you want to find the 1st element of an array: arr[0]. So what does df[df['Gender'] == 'F'] do? Well, it's two steps. First, df['Gender'] == 'F' does something called 'mask.' Let's see an example."
   ]
  },
  {
   "cell_type": "code",
   "execution_count": 12,
   "metadata": {},
   "outputs": [
    {
     "name": "stdout",
     "output_type": "stream",
     "text": [
      "Name\n",
      "Shreya      True\n",
      "Raj        False\n",
      "Jaideep    False\n",
      "Jita        True\n",
      "Name: Gender, dtype: bool\n"
     ]
    }
   ],
   "source": [
    "print(df['Gender'] == 'F')"
   ]
  },
  {
   "cell_type": "markdown",
   "metadata": {},
   "source": [
    "It basically forms a 'mask dataframe,' i.e. a dataframe where each element is a boolean, according to the condition you gave. You have similar behaviour in numpy, another package you'll use a lot (probably more than Pandas). It makes fast arrays, basically."
   ]
  },
  {
   "cell_type": "code",
   "execution_count": 14,
   "metadata": {},
   "outputs": [
    {
     "name": "stdout",
     "output_type": "stream",
     "text": [
      "[False  True  True]\n",
      "[2 3]\n"
     ]
    }
   ],
   "source": [
    "import numpy as np\n",
    "a = np.array([1, 2, 3])\n",
    "print(a > 1)\n",
    "print(a[a > 1])"
   ]
  },
  {
   "cell_type": "markdown",
   "metadata": {},
   "source": [
    "Ok, let's unpack that further. When you say df[mask], it basically produces a 'view' of the dataframe where the condition is true. Note that this does not produce a new dataframe, as that would take time, but rather uses pointers in the backend to refer to the same root data, but only the values you want. This is only really important if you're mutating the data; if you do it to the view, it will happen on the original data! Here's some other examples with numpy and pandas."
   ]
  },
  {
   "cell_type": "code",
   "execution_count": 21,
   "metadata": {},
   "outputs": [
    {
     "name": "stdout",
     "output_type": "stream",
     "text": [
      "array:  [[1 2 3]\n",
      " [4 5 6]\n",
      " [7 8 9]]\n",
      "\n",
      "dimensions:  (3, 3)\n",
      "\n",
      "data type:  <class 'numpy.ndarray'>\n",
      "mask:  [[False False  True]\n",
      " [ True  True  True]\n",
      " [ True  True  True]]\n",
      "\n",
      "dimensions:  (3, 3)\n",
      "\n",
      "data type:  <class 'numpy.ndarray'>\n",
      "\n",
      "Masked array:  [3 4 5 6 7 8 9]\n",
      "\n",
      "dimensions:  (7,)\n",
      "\n",
      "data type:  <class 'numpy.ndarray'>\n",
      "\n"
     ]
    }
   ],
   "source": [
    "a = np.array([[1, 2, 3],\n",
    "              [4, 5, 6],\n",
    "              [7, 8, 9]])\n",
    "print('array: ', a)\n",
    "print()\n",
    "print('dimensions: ', a.shape)\n",
    "print()\n",
    "print('data type: ', type(a))\n",
    "mask = a >= 3\n",
    "print('mask: ', mask)\n",
    "print()\n",
    "print('dimensions: ', mask.shape)\n",
    "print()\n",
    "print('data type: ',type(mask))\n",
    "print()\n",
    "b = a[mask]\n",
    "print('Masked array: ', b)\n",
    "print()\n",
    "print('dimensions: ', b.shape)\n",
    "print()\n",
    "print('data type: ',type(b))\n",
    "print()"
   ]
  },
  {
   "cell_type": "markdown",
   "metadata": {},
   "source": [
    "So the mask array is, itself, an array. You'll also note that the masked array gets flattened, because the matrix' shape information is lost if you're pulling stuff out at random."
   ]
  }
 ],
 "metadata": {
  "kernelspec": {
   "display_name": "Python 3",
   "language": "python",
   "name": "python3"
  },
  "language_info": {
   "codemirror_mode": {
    "name": "ipython",
    "version": 3
   },
   "file_extension": ".py",
   "mimetype": "text/x-python",
   "name": "python",
   "nbconvert_exporter": "python",
   "pygments_lexer": "ipython3",
   "version": "3.7.6"
  }
 },
 "nbformat": 4,
 "nbformat_minor": 4
}
